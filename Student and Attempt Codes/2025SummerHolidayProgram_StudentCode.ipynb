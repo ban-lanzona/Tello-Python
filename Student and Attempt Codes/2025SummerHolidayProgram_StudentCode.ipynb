{
 "cells": [
  {
   "cell_type": "code",
   "execution_count": 12,
   "metadata": {},
   "outputs": [
    {
     "name": "stderr",
     "output_type": "stream",
     "text": [
      "[INFO] tello.py - 129 - Tello instance was initialized. Host: '192.168.10.1'. Port: '8889'.\n",
      "[INFO] tello.py - 438 - Send command: 'command'\n",
      "[INFO] tello.py - 462 - Response command: 'ok'\n",
      "[INFO] tello.py - 438 - Send command: 'takeoff'\n"
     ]
    },
    {
     "name": "stdout",
     "output_type": "stream",
     "text": [
      "Create Tello object\n",
      "Connect to Tello Drone\n"
     ]
    },
    {
     "name": "stderr",
     "output_type": "stream",
     "text": [
      "[INFO] tello.py - 462 - Response takeoff: 'ok'\n",
      "[INFO] tello.py - 438 - Send command: 'up 20'\n"
     ]
    },
    {
     "name": "stdout",
     "output_type": "stream",
     "text": [
      "Move Up\n"
     ]
    },
    {
     "name": "stderr",
     "output_type": "stream",
     "text": [
      "[INFO] tello.py - 462 - Response up 20: 'ok'\n",
      "[INFO] tello.py - 438 - Send command: 'left 20'\n"
     ]
    },
    {
     "name": "stdout",
     "output_type": "stream",
     "text": [
      "Move Left\n"
     ]
    },
    {
     "name": "stderr",
     "output_type": "stream",
     "text": [
      "[INFO] tello.py - 462 - Response left 20: 'ok'\n",
      "[INFO] tello.py - 438 - Send command: 'up 20'\n"
     ]
    },
    {
     "name": "stdout",
     "output_type": "stream",
     "text": [
      "Move Up\n"
     ]
    },
    {
     "name": "stderr",
     "output_type": "stream",
     "text": [
      "[INFO] tello.py - 462 - Response up 20: 'ok'\n",
      "[INFO] tello.py - 438 - Send command: 'left 20'\n"
     ]
    },
    {
     "name": "stdout",
     "output_type": "stream",
     "text": [
      "Move Left\n"
     ]
    },
    {
     "name": "stderr",
     "output_type": "stream",
     "text": [
      "[INFO] tello.py - 462 - Response left 20: 'ok'\n",
      "[INFO] tello.py - 438 - Send command: 'up 40'\n"
     ]
    },
    {
     "name": "stdout",
     "output_type": "stream",
     "text": [
      "Move Up\n"
     ]
    },
    {
     "name": "stderr",
     "output_type": "stream",
     "text": [
      "[INFO] tello.py - 462 - Response up 40: 'ok'\n",
      "[INFO] tello.py - 438 - Send command: 'right 20'\n"
     ]
    },
    {
     "name": "stdout",
     "output_type": "stream",
     "text": [
      "Move Right\n"
     ]
    },
    {
     "name": "stderr",
     "output_type": "stream",
     "text": [
      "[INFO] tello.py - 462 - Response right 20: 'ok'\n",
      "[INFO] tello.py - 438 - Send command: 'down 20'\n"
     ]
    },
    {
     "name": "stdout",
     "output_type": "stream",
     "text": [
      "Move Down\n"
     ]
    },
    {
     "name": "stderr",
     "output_type": "stream",
     "text": [
      "[INFO] tello.py - 462 - Response down 20: 'ok'\n",
      "[INFO] tello.py - 438 - Send command: 'right 20'\n"
     ]
    },
    {
     "name": "stdout",
     "output_type": "stream",
     "text": [
      "Move right\n"
     ]
    },
    {
     "name": "stderr",
     "output_type": "stream",
     "text": [
      "[INFO] tello.py - 462 - Response right 20: 'ok'\n",
      "[INFO] tello.py - 438 - Send command: 'up 20'\n"
     ]
    },
    {
     "name": "stdout",
     "output_type": "stream",
     "text": [
      "Move up\n"
     ]
    },
    {
     "name": "stderr",
     "output_type": "stream",
     "text": [
      "[INFO] tello.py - 462 - Response up 20: 'ok'\n",
      "[INFO] tello.py - 438 - Send command: 'right 20'\n"
     ]
    },
    {
     "name": "stdout",
     "output_type": "stream",
     "text": [
      "Move right\n"
     ]
    },
    {
     "name": "stderr",
     "output_type": "stream",
     "text": [
      "[INFO] tello.py - 462 - Response right 20: 'ok'\n",
      "[INFO] tello.py - 438 - Send command: 'down 20'\n"
     ]
    },
    {
     "name": "stdout",
     "output_type": "stream",
     "text": [
      "Move Down\n"
     ]
    },
    {
     "name": "stderr",
     "output_type": "stream",
     "text": [
      "[INFO] tello.py - 462 - Response down 20: 'ok'\n",
      "[INFO] tello.py - 438 - Send command: 'left 20'\n"
     ]
    },
    {
     "name": "stdout",
     "output_type": "stream",
     "text": [
      "Move left\n"
     ]
    },
    {
     "name": "stderr",
     "output_type": "stream",
     "text": [
      "[INFO] tello.py - 462 - Response left 20: 'ok'\n",
      "[INFO] tello.py - 438 - Send command: 'down 20'\n"
     ]
    },
    {
     "name": "stdout",
     "output_type": "stream",
     "text": [
      "Move Down\n"
     ]
    },
    {
     "name": "stderr",
     "output_type": "stream",
     "text": [
      "[INFO] tello.py - 462 - Response down 20: 'ok'\n",
      "[INFO] tello.py - 438 - Send command: 'left 20'\n"
     ]
    },
    {
     "name": "stdout",
     "output_type": "stream",
     "text": [
      "Move left\n"
     ]
    },
    {
     "name": "stderr",
     "output_type": "stream",
     "text": [
      "[INFO] tello.py - 462 - Response left 20: 'ok'\n",
      "[INFO] tello.py - 438 - Send command: 'land'\n"
     ]
    },
    {
     "name": "stdout",
     "output_type": "stream",
     "text": [
      "landing\n"
     ]
    },
    {
     "name": "stderr",
     "output_type": "stream",
     "text": [
      "[INFO] tello.py - 462 - Response land: 'ok'\n"
     ]
    }
   ],
   "source": [
    "from djitellopy import Tello\n",
    "import time\n",
    "\n",
    "#important parts to connect\n",
    "print(\"Create Tello object\")\n",
    "tello = Tello()\n",
    "print(\"Connect to Tello Drone\")\n",
    "tello.connect()\n",
    "\n",
    "battery_level = tello.get_battery()\n",
    "\n",
    "tello.takeoff()\n",
    "\n",
    "print(\"Move Up\")\n",
    "tello.move_up(20)\n",
    "time.sleep(0.5)\n",
    "print(\"Move Left\")\n",
    "tello.move_left(20)\n",
    "time.sleep(0.5)\n",
    "print(\"Move Up\")\n",
    "tello.move_up(20)\n",
    "time.sleep(0.5)\n",
    "print(\"Move Left\")\n",
    "tello.move_left(20)\n",
    "time.sleep(0.5)\n",
    "print(\"Move Up\")\n",
    "tello.move_up(40)\n",
    "time.sleep(0.5)\n",
    "print(\"Move Right\")\n",
    "tello.move_right(20)\n",
    "time.sleep(0.5)\n",
    "print(\"Move Down\")\n",
    "tello.move_down(20)\n",
    "time.sleep(0.5)\n",
    "print(\"Move right\")\n",
    "tello.move_right(20)\n",
    "time.sleep(0.5)\n",
    "print(\"Move up\")\n",
    "tello.move_up(20)\n",
    "time.sleep(0.5)\n",
    "print(\"Move right\")\n",
    "tello.move_right(20)\n",
    "time.sleep(3)\n",
    "print(\"Move Down\")\n",
    "tello.move_down(20)\n",
    "time.sleep(0.5)\n",
    "print(\"Move left\")\n",
    "tello.move_left(20)\n",
    "time.sleep(0.5)\n",
    "print(\"Move Down\")\n",
    "tello.move_down(20)\n",
    "time.sleep(0.5)\n",
    "print(\"Move left\")\n",
    "tello.move_left(20)\n",
    "time.sleep(0.5)\n",
    "print(\"landing\")\n",
    "tello.land()\n",
    "\n",
    "\n"
   ]
  }
 ],
 "metadata": {
  "kernelspec": {
   "display_name": "Python 3",
   "language": "python",
   "name": "python3"
  },
  "language_info": {
   "codemirror_mode": {
    "name": "ipython",
    "version": 3
   },
   "file_extension": ".py",
   "mimetype": "text/x-python",
   "name": "python",
   "nbconvert_exporter": "python",
   "pygments_lexer": "ipython3",
   "version": "3.12.2"
  }
 },
 "nbformat": 4,
 "nbformat_minor": 2
}
