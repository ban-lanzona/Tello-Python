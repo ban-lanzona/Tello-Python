{
 "cells": [
  {
   "cell_type": "markdown",
   "metadata": {},
   "source": [
    "Notice: Original Clap Recognition Model Source is from [this thread in stackoverflow](http://stackoverflow.com/questions/4160175/detect-tap-with-pyaudio-from-live-mic)."
   ]
  },
  {
   "cell_type": "code",
   "execution_count": 108,
   "metadata": {},
   "outputs": [],
   "source": [
    "import pyaudio\n",
    "import struct\n",
    "import math\n",
    "import time\n",
    "from djitellopy import Tello\n",
    "import cv2\n",
    "import time"
   ]
  },
  {
   "cell_type": "code",
   "execution_count": 33,
   "metadata": {},
   "outputs": [],
   "source": [
    "#defaults\n",
    "INITIAL_TAP_THRESHOLD = 0.25 #The RMS amplitude threshold to initially classify a sound as a tap.\n",
    "FORMAT = pyaudio.paInt16 #The audio data format (paInt16 for 16-bit audio).\n",
    "SHORT_NORMALIZE = (1.0/32768.0) #Used to normalize audio sample values to the range [-1.0, 1.0].\n",
    "CHANNELS = 2 #Number of audio channels (stereo in this case).\n",
    "RATE = 44100  #Sampling rate in Hz (samples per second).\n",
    "INPUT_BLOCK_TIME = 0.05 #Duration of each audio block in seconds (0.05 s).\n",
    "INPUT_FRAMES_PER_BLOCK = int(RATE*INPUT_BLOCK_TIME) #Number of frames per audio block.\n",
    "\n",
    "# if we get this many noisy blocks in a row, increase the threshold\n",
    "OVERSENSITIVE = 15.0/INPUT_BLOCK_TIME                    \n",
    "# if we get this many quiet blocks in a row, decrease the threshold\n",
    "UNDERSENSITIVE = 120.0/INPUT_BLOCK_TIME \n",
    "#Control how the threshold adapts to noise conditions.\n",
    "\n",
    "# if the noise was longer than this many blocks, it's not a 'tap'\n",
    "MAX_TAP_BLOCKS = 0.15/INPUT_BLOCK_TIME\n",
    "#Maximum duration of consecutive noisy blocks that are considered a tap.\n",
    "\n",
    "def get_rms( block ):\n",
    "    # RMS amplitude is defined as the square root of the \n",
    "    # mean over time of the square of the amplitude.\n",
    "    # so we need to convert this string of bytes into \n",
    "    # a string of 16-bit samples...\n",
    "\n",
    "    # we will get one short out for each \n",
    "    # two chars in the string.\n",
    "    count = len(block)/2\n",
    "    format = \"%dh\"%(count)\n",
    "    shorts = struct.unpack( format, block )\n",
    "\n",
    "    # iterate over the block.\n",
    "    sum_squares = 0.0\n",
    "    for sample in shorts:\n",
    "        # sample is a signed short in +/- 32768. \n",
    "        # normalize it to 1.0\n",
    "        n = sample * SHORT_NORMALIZE\n",
    "        sum_squares += n*n\n",
    "\n",
    "    return math.sqrt( sum_squares / count )\n",
    "#RMS amplitude is a measure of the audio signal's power, which helps identify loud noises.\n",
    "\n",
    "class TapTester(object):\n",
    "    def __init__(self): #Initializes the PyAudio instance, opens the microphone stream, and sets initial thresholds and counters.\n",
    "        self.pa = pyaudio.PyAudio() #pa: A PyAudio object for handling audio I/O.\n",
    "        self.stream = self.open_mic_stream()\n",
    "        self.tap_threshold = INITIAL_TAP_THRESHOLD\n",
    "        self.noisycount = MAX_TAP_BLOCKS+1 \n",
    "        self.quietcount = 0 \n",
    "        self.errorcount = 0\n",
    "\n",
    "    def stop(self): #Closes the audio stream.\n",
    "        self.stream.close()\n",
    "\n",
    "    def find_input_device(self): \n",
    "        #Searches for an audio input device (e.g., a microphone). Prints available devices and selects one containing \"mic\" or \"input\" in its name.\n",
    "        device_index = None            \n",
    "        for i in range( self.pa.get_device_count() ):     \n",
    "            devinfo = self.pa.get_device_info_by_index(i)   \n",
    "            print( \"Device %d: %s\"%(i,devinfo[\"name\"]) )\n",
    "\n",
    "            for keyword in [\"mic\",\"input\"]:\n",
    "                if keyword in devinfo[\"name\"].lower():\n",
    "                    print( \"Found an input: device %d - %s\"%(i,devinfo[\"name\"]) )\n",
    "                    device_index = i\n",
    "                    return device_index\n",
    "\n",
    "        if device_index == None:\n",
    "            print( \"No preferred input found; using default input device.\" )\n",
    "\n",
    "        return device_index\n",
    "\n",
    "    def open_mic_stream( self ): #Opens an audio input stream using the chosen device.\n",
    "        device_index = self.find_input_device()\n",
    "\n",
    "        stream = self.pa.open(   format = FORMAT,\n",
    "                                 channels = CHANNELS,\n",
    "                                 rate = RATE,\n",
    "                                 input = True,\n",
    "                                 input_device_index = device_index,\n",
    "                                 frames_per_buffer = INPUT_FRAMES_PER_BLOCK)\n",
    "\n",
    "        return stream\n",
    "\n",
    "    def tapDetected(self): #DETECTED \n",
    "        #A placeholder method triggered when a tap is detected. (Currently, it just prints \"tapped.\")\n",
    "        print (\"tapped\")\n",
    "\n",
    "    def listen(self): #Processes audio input in blocks\n",
    "        # Reads an audio block.\n",
    "        # Computes its RMS amplitude.\n",
    "        # Updates counters based on whether the block is noisy or quiet.\n",
    "        # Detects taps when noisy blocks are followed by quiet ones within the allowed duration (MAX_TAP_BLOCKS)\n",
    "        \n",
    "        try:\n",
    "            block = self.stream.read(INPUT_FRAMES_PER_BLOCK)\n",
    "        except e:\n",
    "            # dammit. \n",
    "            self.errorcount += 1\n",
    "            print( \"(%d) Error recording: %s\"%(self.errorcount,e) )\n",
    "            self.noisycount = 1\n",
    "            return\n",
    "\n",
    "        amplitude = get_rms( block )\n",
    "        if amplitude > self.tap_threshold:\n",
    "            # noisy block\n",
    "            self.quietcount = 0\n",
    "            self.noisycount += 1\n",
    "        else:            \n",
    "            # quiet block.\n",
    "\n",
    "            if 1 <= self.noisycount <= MAX_TAP_BLOCKS:\n",
    "                self.tapDetected()\n",
    "            self.noisycount = 0\n",
    "            self.quietcount += 1"
   ]
  },
  {
   "cell_type": "code",
   "execution_count": null,
   "metadata": {},
   "outputs": [],
   "source": [
    "#configure audio devices\n",
    "\n",
    "for i in range(0,tt.pa.get_device_count()):\n",
    "    print(f'{tt.pa.get_device_info_by_index(i)[\"index\"]},\n",
    "          {tt.pa.get_device_info_by_index(i)[\"name\"]}')"
   ]
  },
  {
   "cell_type": "code",
   "execution_count": 102,
   "metadata": {},
   "outputs": [],
   "source": [
    "#with counter\n",
    "\n",
    "class TapTester(object):\n",
    "    def __init__(self): \n",
    "        self.pa = pyaudio.PyAudio() \n",
    "        self.stream = self.open_mic_stream()\n",
    "        self.tap_threshold = INITIAL_TAP_THRESHOLD\n",
    "        self.noisycount = MAX_TAP_BLOCKS+1 \n",
    "        self.quietcount = 0 \n",
    "        self.errorcount = 0\n",
    "        self.last_clap_time = time.perf_counter()\n",
    "        self.clap_timeout = 2.5\n",
    "        self.clap_count = 0\n",
    "\n",
    "    def stop(self): \n",
    "        self.stream.close()\n",
    "\n",
    "    def find_input_device(self): \n",
    "        device_index = None            \n",
    "        for i in range( self.pa.get_device_count() ):     \n",
    "            devinfo = self.pa.get_device_info_by_index(i)   \n",
    "            print( \"Device %d: %s\"%(i,devinfo[\"name\"]) )\n",
    "\n",
    "            for keyword in [\"mic\",\"input\"]:\n",
    "                if keyword in devinfo[\"name\"].lower():\n",
    "                    print( \"Found an input: device %d - %s\"%(i,devinfo[\"name\"]) )\n",
    "                    device_index = i\n",
    "                    return device_index\n",
    "\n",
    "        if device_index == None:\n",
    "            print( \"No preferred input found; using default input device.\" )\n",
    "\n",
    "        return device_index\n",
    "\n",
    "    def open_mic_stream( self ): \n",
    "        device_index = self.find_input_device()\n",
    "\n",
    "        stream = self.pa.open(   format = FORMAT,\n",
    "                                 channels = CHANNELS,\n",
    "                                 rate = RATE,\n",
    "                                 input = True,\n",
    "                                 input_device_index = device_index,\n",
    "                                 frames_per_buffer = INPUT_FRAMES_PER_BLOCK)\n",
    "\n",
    "        return stream\n",
    "\n",
    "    def tapDetected(self): #DETECTED \n",
    "        self.clap_count += 1\n",
    "        print(f'Clap count: {self.clap_count}')        \n",
    "\n",
    "    def listen(self):        \n",
    "        try:\n",
    "            block = self.stream.read(INPUT_FRAMES_PER_BLOCK)\n",
    "        except e:\n",
    "            self.errorcount += 1\n",
    "            print( \"(%d) Error recording: %s\"%(self.errorcount,e) )\n",
    "            self.noisycount = 1\n",
    "            return\n",
    "\n",
    "        amplitude = get_rms( block )\n",
    "        if amplitude > self.tap_threshold:\n",
    "            self.quietcount = 0\n",
    "            self.noisycount += 1\n",
    "        else:            \n",
    "            if 1 <= self.noisycount <= MAX_TAP_BLOCKS:\n",
    "                self.tapDetected()\n",
    "            self.noisycount = 0\n",
    "            self.quietcount += 1\n",
    "\n",
    "        base_time = time.perf_counter()\n",
    "        trigger = base_time - self.last_clap_time > self.clap_timeout\n",
    "        if trigger:\n",
    "                self.actionTrigger()\n",
    "                self.clap_count = 0\n",
    "                self.last_clap_time = base_time\n",
    "\n",
    "    def actionTrigger(self):\n",
    "        if self.clap_count == 1:\n",
    "            print(f'{sum(range(10))}')\n",
    "        elif self.clap_count == 2:\n",
    "            print(f'{min(range(10))}')\n",
    "        elif self.clap_count == 3:\n",
    "            print(f'{max(range(10))}')\n",
    "    \n"
   ]
  },
  {
   "cell_type": "code",
   "execution_count": 104,
   "metadata": {},
   "outputs": [
    {
     "name": "stdout",
     "output_type": "stream",
     "text": [
      "Device 0: Microsoft Sound Mapper - Input\n",
      "Found an input: device 0 - Microsoft Sound Mapper - Input\n",
      "Clap count: 1\n",
      "Clap count: 2\n",
      "Clap count: 3\n",
      "9\n",
      "Clap count: 1\n",
      "45\n",
      "Clap count: 1\n",
      "45\n",
      "Clap count: 1\n",
      "Clap count: 2\n",
      "Clap count: 3\n",
      "9\n",
      "Clap count: 1\n",
      "Clap count: 2\n",
      "0\n",
      "Clap count: 1\n",
      "45\n",
      "Clap count: 1\n",
      "45\n",
      "Clap count: 1\n",
      "45\n",
      "Clap count: 1\n",
      "Clap count: 2\n",
      "0\n",
      "Clap count: 1\n",
      "Clap count: 2\n",
      "Clap count: 3\n",
      "9\n",
      "Clap count: 1\n",
      "Clap count: 2\n",
      "Clap count: 3\n",
      "9\n",
      "Clap count: 1\n",
      "Clap count: 2\n",
      "Clap count: 3\n"
     ]
    }
   ],
   "source": [
    "#sometimes tap threshold is too high, making it less sensitive. 0.1 makes it sensitive enough. \n",
    "INITIAL_TAP_THRESHOLD = 0.1\n",
    "\n",
    "if __name__ == \"__main__\":\n",
    "    tt = TapTester()\n",
    "\n",
    "    for i in range(1000):\n",
    "        tt.listen()"
   ]
  },
  {
   "cell_type": "code",
   "execution_count": 138,
   "metadata": {},
   "outputs": [],
   "source": [
    "#with tello command\n",
    "\n",
    "class TapTester(object):\n",
    "    def __init__(self, tello_distance = 30, clap_timeout=3): \n",
    "        self.pa = pyaudio.PyAudio() \n",
    "        self.stream = self.open_mic_stream()\n",
    "        self.tap_threshold = INITIAL_TAP_THRESHOLD\n",
    "        self.noisycount = MAX_TAP_BLOCKS+1 \n",
    "        self.quietcount = 0 \n",
    "        self.errorcount = 0\n",
    "        self.last_clap_time = time.perf_counter()\n",
    "        self.clap_timeout = 3\n",
    "        self.clap_count = 0\n",
    "        self.tello_distance = 30\n",
    "\n",
    "    def stop(self): \n",
    "        self.stream.close()\n",
    "\n",
    "    def find_input_device(self): \n",
    "        device_index = None            \n",
    "        for i in range( self.pa.get_device_count() ):     \n",
    "            devinfo = self.pa.get_device_info_by_index(i)   \n",
    "            print( \"Device %d: %s\"%(i,devinfo[\"name\"]) )\n",
    "\n",
    "            for keyword in [\"mic\",\"input\"]:\n",
    "                if keyword in devinfo[\"name\"].lower():\n",
    "                    print( \"Found an input: device %d - %s\"%(i,devinfo[\"name\"]) )\n",
    "                    device_index = i\n",
    "                    return device_index\n",
    "\n",
    "        if device_index == None:\n",
    "            print( \"No preferred input found; using default input device.\" )\n",
    "\n",
    "        return device_index\n",
    "\n",
    "    def open_mic_stream( self ): \n",
    "        device_index = self.find_input_device()\n",
    "\n",
    "        stream = self.pa.open(   format = FORMAT,\n",
    "                                 channels = CHANNELS,\n",
    "                                 rate = RATE,\n",
    "                                 input = True,\n",
    "                                 input_device_index = device_index,\n",
    "                                 frames_per_buffer = INPUT_FRAMES_PER_BLOCK)\n",
    "\n",
    "        return stream\n",
    "\n",
    "    def tapDetected(self): #DETECTED \n",
    "        self.clap_count += 1\n",
    "        print(f'Clap count: {self.clap_count}')        \n",
    "\n",
    "    def listen(self):        \n",
    "        try:\n",
    "            block = self.stream.read(INPUT_FRAMES_PER_BLOCK)\n",
    "        except e:\n",
    "            self.errorcount += 1\n",
    "            print( \"(%d) Error recording: %s\"%(self.errorcount,e) )\n",
    "            self.noisycount = 1\n",
    "            return\n",
    "\n",
    "        amplitude = get_rms( block )\n",
    "        if amplitude > self.tap_threshold:\n",
    "            self.quietcount = 0\n",
    "            self.noisycount += 1\n",
    "        else:            \n",
    "            if 1 <= self.noisycount <= MAX_TAP_BLOCKS:\n",
    "                self.tapDetected()\n",
    "            self.noisycount = 0\n",
    "            self.quietcount += 1\n",
    "\n",
    "        base_time = time.perf_counter()\n",
    "        trigger = base_time - self.last_clap_time > self.clap_timeout\n",
    "        if trigger:\n",
    "                self.actionTrigger()\n",
    "                self.clap_count = 0\n",
    "                self.last_clap_time = base_time\n",
    "\n",
    "    def actionTrigger(self):\n",
    "        if self.clap_count == 1:\n",
    "            tello.takeoff()\n",
    "            time.sleep(1)\n",
    "            print(\"Awaiting command.\")\n",
    "        elif self.clap_count == 2:\n",
    "            tello.move_up(self.tello_distance)\n",
    "            time.sleep(1)\n",
    "            print(\"Awaiting command.\")\n",
    "        elif self.clap_count == 3:\n",
    "            tello.move_down(self.tello_distance)\n",
    "            time.sleep(1)\n",
    "            print(\"Awaiting command.\")\n",
    "        elif self.clap_count == 4:\n",
    "            tello.flip_right()\n",
    "            time.sleep(1)\n",
    "            print(\"Awaiting command.\")\n",
    "        elif self.clap_count == 5:\n",
    "            tello.land()\n",
    "            time.sleep(1)\n",
    "            print(\"Awaiting command.\")\n",
    "        elif self.clap_count == 7:\n",
    "            self.stop()\n"
   ]
  },
  {
   "cell_type": "code",
   "execution_count": 140,
   "metadata": {},
   "outputs": [
    {
     "name": "stderr",
     "output_type": "stream",
     "text": [
      "[INFO] tello.py - 129 - Tello instance was initialized. Host: '192.168.10.1'. Port: '8889'.\n",
      "[INFO] tello.py - 438 - Send command: 'command'\n",
      "[INFO] tello.py - 462 - Response command: 'ok'\n"
     ]
    },
    {
     "name": "stdout",
     "output_type": "stream",
     "text": [
      "Create Tello object\n",
      "Connect to Tello Drone\n",
      "Battery Life Percentage: 67\n"
     ]
    }
   ],
   "source": [
    "#initiating connection to the tello drone\n",
    "#checking battery level as well\n",
    "\n",
    "print(\"Create Tello object\")\n",
    "tello = Tello()\n",
    "\n",
    "print(\"Connect to Tello Drone\")\n",
    "tello.connect()\n",
    "\n",
    "battery_level = tello.get_battery()\n",
    "print(f\"Battery Life Percentage: {battery_level}\")"
   ]
  },
  {
   "cell_type": "code",
   "execution_count": null,
   "metadata": {},
   "outputs": [
    {
     "name": "stdout",
     "output_type": "stream",
     "text": [
      "Device 0: Microsoft Sound Mapper - Input\n",
      "Found an input: device 0 - Microsoft Sound Mapper - Input\n",
      "Clap count: 1\n"
     ]
    },
    {
     "name": "stderr",
     "output_type": "stream",
     "text": [
      "[INFO] tello.py - 438 - Send command: 'takeoff'\n",
      "[INFO] tello.py - 462 - Response takeoff: 'ok'\n"
     ]
    },
    {
     "name": "stdout",
     "output_type": "stream",
     "text": [
      "Awaiting command.\n",
      "Clap count: 1\n",
      "Clap count: 2\n",
      "Clap count: 3\n"
     ]
    },
    {
     "name": "stderr",
     "output_type": "stream",
     "text": [
      "[INFO] tello.py - 438 - Send command: 'down 30'\n",
      "[INFO] tello.py - 462 - Response down 30: 'ok'\n"
     ]
    },
    {
     "name": "stdout",
     "output_type": "stream",
     "text": [
      "Awaiting command.\n",
      "Clap count: 1\n",
      "Clap count: 2\n",
      "Clap count: 3\n",
      "Clap count: 4\n",
      "Clap count: 5\n"
     ]
    },
    {
     "name": "stderr",
     "output_type": "stream",
     "text": [
      "[INFO] tello.py - 438 - Send command: 'land'\n",
      "[INFO] tello.py - 462 - Response land: 'ok'\n"
     ]
    },
    {
     "name": "stdout",
     "output_type": "stream",
     "text": [
      "Awaiting command.\n"
     ]
    },
    {
     "name": "stderr",
     "output_type": "stream",
     "text": [
      "[INFO] tello.py - 438 - Send command: 'takeoff'\n"
     ]
    },
    {
     "name": "stdout",
     "output_type": "stream",
     "text": [
      "Clap count: 1\n"
     ]
    },
    {
     "name": "stderr",
     "output_type": "stream",
     "text": [
      "[INFO] tello.py - 462 - Response takeoff: 'ok'\n"
     ]
    },
    {
     "name": "stdout",
     "output_type": "stream",
     "text": [
      "Awaiting command.\n",
      "Clap count: 1\n"
     ]
    },
    {
     "name": "stderr",
     "output_type": "stream",
     "text": [
      "[INFO] tello.py - 438 - Send command: 'takeoff'\n",
      "[INFO] tello.py - 462 - Response takeoff: 'ok'\n"
     ]
    },
    {
     "name": "stdout",
     "output_type": "stream",
     "text": [
      "Awaiting command.\n",
      "Clap count: 1\n",
      "Clap count: 2\n",
      "Clap count: 3\n",
      "Clap count: 4\n",
      "Clap count: 5\n"
     ]
    },
    {
     "name": "stderr",
     "output_type": "stream",
     "text": [
      "[INFO] tello.py - 438 - Send command: 'land'\n",
      "[INFO] tello.py - 462 - Response land: 'ok'\n"
     ]
    },
    {
     "name": "stdout",
     "output_type": "stream",
     "text": [
      "Awaiting command.\n"
     ]
    },
    {
     "ename": "NameError",
     "evalue": "name 'e' is not defined",
     "output_type": "error",
     "traceback": [
      "\u001b[1;31m---------------------------------------------------------------------------\u001b[0m",
      "\u001b[1;31mKeyboardInterrupt\u001b[0m                         Traceback (most recent call last)",
      "Cell \u001b[1;32mIn[138], line 54\u001b[0m, in \u001b[0;36mTapTester.listen\u001b[1;34m(self)\u001b[0m\n\u001b[0;32m     53\u001b[0m \u001b[38;5;28;01mtry\u001b[39;00m:\n\u001b[1;32m---> 54\u001b[0m     block \u001b[38;5;241m=\u001b[39m \u001b[38;5;28;43mself\u001b[39;49m\u001b[38;5;241;43m.\u001b[39;49m\u001b[43mstream\u001b[49m\u001b[38;5;241;43m.\u001b[39;49m\u001b[43mread\u001b[49m\u001b[43m(\u001b[49m\u001b[43mINPUT_FRAMES_PER_BLOCK\u001b[49m\u001b[43m)\u001b[49m\n\u001b[0;32m     55\u001b[0m \u001b[38;5;28;01mexcept\u001b[39;00m e:\n",
      "File \u001b[1;32mc:\\Users\\nuttysan\\AppData\\Local\\Programs\\Python\\Python312\\Lib\\site-packages\\pyaudio\\__init__.py:570\u001b[0m, in \u001b[0;36mPyAudio.Stream.read\u001b[1;34m(self, num_frames, exception_on_overflow)\u001b[0m\n\u001b[0;32m    568\u001b[0m     \u001b[38;5;28;01mraise\u001b[39;00m \u001b[38;5;167;01mIOError\u001b[39;00m(\u001b[38;5;124m\"\u001b[39m\u001b[38;5;124mNot input stream\u001b[39m\u001b[38;5;124m\"\u001b[39m,\n\u001b[0;32m    569\u001b[0m                   paCanNotReadFromAnOutputOnlyStream)\n\u001b[1;32m--> 570\u001b[0m \u001b[38;5;28;01mreturn\u001b[39;00m \u001b[43mpa\u001b[49m\u001b[38;5;241;43m.\u001b[39;49m\u001b[43mread_stream\u001b[49m\u001b[43m(\u001b[49m\u001b[38;5;28;43mself\u001b[39;49m\u001b[38;5;241;43m.\u001b[39;49m\u001b[43m_stream\u001b[49m\u001b[43m,\u001b[49m\u001b[43m \u001b[49m\u001b[43mnum_frames\u001b[49m\u001b[43m,\u001b[49m\n\u001b[0;32m    571\u001b[0m \u001b[43m                      \u001b[49m\u001b[43mexception_on_overflow\u001b[49m\u001b[43m)\u001b[49m\n",
      "\u001b[1;31mKeyboardInterrupt\u001b[0m: ",
      "\nDuring handling of the above exception, another exception occurred:\n",
      "\u001b[1;31mNameError\u001b[0m                                 Traceback (most recent call last)",
      "Cell \u001b[1;32mIn[141], line 7\u001b[0m\n\u001b[0;32m      4\u001b[0m tt \u001b[38;5;241m=\u001b[39m TapTester()\n\u001b[0;32m      6\u001b[0m \u001b[38;5;28;01mfor\u001b[39;00m i \u001b[38;5;129;01min\u001b[39;00m \u001b[38;5;28mrange\u001b[39m(\u001b[38;5;241m1000\u001b[39m):\n\u001b[1;32m----> 7\u001b[0m     \u001b[43mtt\u001b[49m\u001b[38;5;241;43m.\u001b[39;49m\u001b[43mlisten\u001b[49m\u001b[43m(\u001b[49m\u001b[43m)\u001b[49m\n",
      "Cell \u001b[1;32mIn[138], line 55\u001b[0m, in \u001b[0;36mTapTester.listen\u001b[1;34m(self)\u001b[0m\n\u001b[0;32m     53\u001b[0m \u001b[38;5;28;01mtry\u001b[39;00m:\n\u001b[0;32m     54\u001b[0m     block \u001b[38;5;241m=\u001b[39m \u001b[38;5;28mself\u001b[39m\u001b[38;5;241m.\u001b[39mstream\u001b[38;5;241m.\u001b[39mread(INPUT_FRAMES_PER_BLOCK)\n\u001b[1;32m---> 55\u001b[0m \u001b[38;5;28;01mexcept\u001b[39;00m \u001b[43me\u001b[49m:\n\u001b[0;32m     56\u001b[0m     \u001b[38;5;28mself\u001b[39m\u001b[38;5;241m.\u001b[39merrorcount \u001b[38;5;241m+\u001b[39m\u001b[38;5;241m=\u001b[39m \u001b[38;5;241m1\u001b[39m\n\u001b[0;32m     57\u001b[0m     \u001b[38;5;28mprint\u001b[39m( \u001b[38;5;124m\"\u001b[39m\u001b[38;5;124m(\u001b[39m\u001b[38;5;132;01m%d\u001b[39;00m\u001b[38;5;124m) Error recording: \u001b[39m\u001b[38;5;132;01m%s\u001b[39;00m\u001b[38;5;124m\"\u001b[39m\u001b[38;5;241m%\u001b[39m(\u001b[38;5;28mself\u001b[39m\u001b[38;5;241m.\u001b[39merrorcount,e) )\n",
      "\u001b[1;31mNameError\u001b[0m: name 'e' is not defined"
     ]
    }
   ],
   "source": [
    "#starting code, please wait for the \"Awaiting command.\" before clapping again\n",
    "\n",
    "INITIAL_TAP_THRESHOLD = 0.1\n",
    "\n",
    "if __name__ == \"__main__\":\n",
    "    tt = TapTester()\n",
    "\n",
    "    for i in range(1000):\n",
    "        tt.listen()"
   ]
  }
 ],
 "metadata": {
  "kernelspec": {
   "display_name": "Python 3",
   "language": "python",
   "name": "python3"
  },
  "language_info": {
   "codemirror_mode": {
    "name": "ipython",
    "version": 3
   },
   "file_extension": ".py",
   "mimetype": "text/x-python",
   "name": "python",
   "nbconvert_exporter": "python",
   "pygments_lexer": "ipython3",
   "version": "3.12.3"
  }
 },
 "nbformat": 4,
 "nbformat_minor": 2
}
